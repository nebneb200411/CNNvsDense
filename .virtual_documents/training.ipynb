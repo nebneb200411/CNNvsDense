import torch.nn as nn
import torch
from cnn import CNN
from dense_network import DenseNetwork
from dataloader import train_dataloader_cnn, test_dataloader_cnn, train_dataloader_dense, test_dataloader_dense


EPOCHS = 100
IN_CHANNEL = 1
FIRST_CHENNEL = 32
device = 'cuda:0' if torch.cuda.is_available() else 'cpu'
cnn = CNN(in_ch=IN_CHANNEL, f=FIRST_CHENNEL).to(device=device)
optim = torch.optim.Adam(cnn.parameters(), lr=0.01)
criterion = nn.CrossEntropyLoss()


cnn_losses = []
for epoch in range(EPOCHS):
    optim.zero_grad()
    imgs, labels = next(iter(train_dataloader_cnn))
    pred = cnn(imgs)
    loss = criterion(pred, labels)
    loss.backward()
    optim.step()
    cnn_losses.append(loss.item())
print('fin')


import matplotlib.pyplot as plt
fig = plt.figure(figsize=(15, 15))
ax = fig.subplots(1)
ax.plot([x for x in range(len(cnn_losses))], cnn_losses)
fig.savefig('loss_cnn_{}.png'.format(epoch))


cnn.eval()
t_imgs, t_labels = next(iter(test_dataloader_cnn))
out = cnn(t_imgs)


out_number = torch.argmax(out, dim=1)
out_number


t_labels


def print_score(out_number, answer_number):
    score = torch.sum(out_number == answer_number).item() / len(answer_number)
    return score


cnn_score = print_score(out_number, t_labels)
print(cnn_score)


model_path = 'cnn_model_{}.pth'.format(EPOCHS)
torch.save(cnn.state_dict(), model_path)


EPOCHS = 100
IN_CHANNEL = 28 * 28 * 1
device = 'cuda:0' if torch.cuda.is_available() else 'cpu'
dense_net = DenseNetwork(in_ch=IN_CHANNEL).to(device=device)
optim = torch.optim.Adam(dense_net.parameters(), lr=0.01)
criterion = nn.CrossEntropyLoss()


dense_losses = []
for epoch in range(EPOCHS):
    optim.zero_grad()
    imgs, labels = next(iter(train_dataloader_dense))
    pred = dense_net(imgs)
    loss = criterion(pred, labels)
    loss.backward()
    optim.step()
    dense_losses.append(loss.item())
print('fin')


import matplotlib.pyplot as plt
fig = plt.figure(figsize=(15, 15))
ax = fig.subplots(1)
ax.plot([x for x in range(len(dense_losses))], dense_losses)
fig.savefig('loss_dense_{}.png'.format(epoch))


dense_net.eval()
t_imgs, t_labels = next(iter(test_dataloader_dense))
out = dense_net(t_imgs)


out_number = torch.argmax(out, dim=1)
out_number


def print_score(out_number, answer_number):
    score = torch.sum(out_number == answer_number).item() / len(answer_number)
    return score


dense_score = print_score(out_number, t_labels)
print(dense_score)


model_path = 'dense_model_{}.pth'.format(EPOCHS)
torch.save(dense_net.state_dict(), model_path)



